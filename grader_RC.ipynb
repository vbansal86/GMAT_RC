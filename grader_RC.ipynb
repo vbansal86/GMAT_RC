{
 "cells": [
  {
   "cell_type": "code",
   "execution_count": null,
   "metadata": {},
   "outputs": [],
   "source": [
    "import pandas as pd \n",
    "import json "
   ]
  },
  {
   "cell_type": "code",
   "execution_count": null,
   "metadata": {},
   "outputs": [],
   "source": [
    "from langchain.chains.combine_documents import create_stuff_documents_chain\n",
    "from langchain_core.prompts import ChatPromptTemplate\n",
    "from langchain_openai import ChatOpenAI\n",
    "from langchain_core.documents import Document\n",
    "\n",
    "import os\n",
    "os.environ[\"OPENAI_API_KEY\"] = \"YOUR KEY\"\n",
    "\n",
    "llm = ChatOpenAI()\n",
    "\n",
    "prompt = ChatPromptTemplate.from_template(\"\"\"Answer the following question based only on the provided context. \n",
    "                                          Understand the context properly before answering the question. \n",
    "                                          Do not assume anything and answer within the comprehension passage itself\n",
    "                                          Explain why you think the answer is correct.:\n",
    "\n",
    "<context>\n",
    "{context}\n",
    "</context>\n",
    "\n",
    "Question: {query}\"\"\")\n",
    "\n",
    "document_chain = create_stuff_documents_chain(llm, prompt)\n",
    "\n",
    "\n",
    "prompt2 = ChatPromptTemplate.from_template(\"\"\"Which of the following option matches with the string provided below?:\n",
    "\n",
    "<context>\n",
    "{context}\n",
    "</context>\n",
    "\n",
    "String: {query}\"\"\")\n",
    "\n",
    "document_chain2 = create_stuff_documents_chain(llm, prompt2)"
   ]
  },
  {
   "cell_type": "code",
   "execution_count": 218,
   "metadata": {},
   "outputs": [],
   "source": [
    "df_rc = pd.read_csv('output.csv',encoding='utf-8')"
   ]
  },
  {
   "cell_type": "code",
   "execution_count": 227,
   "metadata": {},
   "outputs": [
    {
     "name": "stdout",
     "output_type": "stream",
     "text": [
      "The impressionist painters expressly disavowed any interest in philosophy, yet their new \n",
      "appro ach to art had far -reaching philosophical implications. For the view of matter that the \n",
      "Impressionists assumed differed profoundly from the view that had previously prevailed among \n",
      "artists. This view helped to unify the artistic works created in the new st yle. \n",
      "The ancient Greeks had conceived of the world in concrete terms, even endowing abstract \n",
      "qualities with bodies. This Greek view of matter persisted, so far as painting was concerned, \n",
      "into the nineteenth century. The Impressionists , on the other hand, v iewed light, not matter, as \n",
      "the ultimate  visual reality. The philosopher Taine expressed the Impressionist view of things 242 GMAT, GRE, LSAT    \n",
      " when he said, The chief person  in a picture is the light in which everything is bathed.  \n",
      "In Impressionist painting, solid bodies be came mere reflectors of light, and distinctions \n",
      "between one object and another became arbitrary conventions; for by light all things were \n",
      "welded together . The treatment of both color and outline was transformed as well. Color, \n",
      "formerly considered a propert y inherent in an object, was seen to be merely the result of \n",
      "vibrations of light on the object s colorless surface . And outline, whose function had formerly \n",
      "been to indicate the limits of objects, now marked instead merely the boundary between units \n",
      "of pat tern, which often merged into one another.  \n",
      "The Impressionist world was composed not of separate objects but of many surfaces on \n",
      "which light struck and was reflected with varying intensity to the eye through the atmosphere, \n",
      "which modified it. It was this pr ocess that produced the mosaic of colors that formed an \n",
      "Impressionist canvas. Light becomes the sole subject of the picture,  writes Mauclair. The \n",
      "interest of the object upon which it plays is secondary. Painting thus conceived becomes a \n",
      "purely optic art . \n",
      "From this profoundly revolutionary  form of art, then, all ideas religious, moral, \n",
      "psychological were excluded, and so were all emotions except certain aesthetic ones. The \n",
      "people, places, and things depicted in an Impressionist picture do not tell story or convey any \n",
      "special meaning ; they are, instead, merely parts of pattern of light drawn from nature and \n",
      "captured on canvas by the artist.\n"
     ]
    }
   ],
   "source": [
    "data = df_rc.sample()\n",
    "dict_object = json.loads(data['Choices'].values[0].replace(\"'\",'\"'))\n",
    "print(data['Passage'].values[0])"
   ]
  },
  {
   "cell_type": "code",
   "execution_count": 228,
   "metadata": {},
   "outputs": [
    {
     "name": "stdout",
     "output_type": "stream",
     "text": [
      "The ideas attributed to the Impressionists in the passage suggest that an \n",
      "Impressionist painter would be most likely to agree with which of the following \n",
      "statement?\n"
     ]
    }
   ],
   "source": [
    "print(data['Question'].values[0])"
   ]
  },
  {
   "cell_type": "code",
   "execution_count": 231,
   "metadata": {},
   "outputs": [
    {
     "name": "stdout",
     "output_type": "stream",
     "text": [
      "Question: The ideas attributed to the Impressionists in the passage suggest that an \n",
      "Impressionist painter would be most likely to agree with which of the following \n",
      "statement?\n",
      "AI Answer: An Impressionist painter would most likely agree with the statement that \"the chief person in a picture is the light in which everything is bathed.\" This is evident from the passage where the philosopher Taine expressed the Impressionist view that light, not matter, is the ultimate visual reality and that in Impressionist painting, solid bodies became mere reflectors of light, with light being the sole subject of the picture. The passage also explains how Impressionist paintings do not convey any special meaning or story, but rather focus on capturing the patterns of light drawn from nature. This aligns with the idea that the light in a picture is the most significant element.\n",
      "Correct Answer: Choice 0: 'A picture is significant primarily as a manifestation of the artist s mental state.'\n"
     ]
    }
   ],
   "source": [
    "context = data['Passage'].values[0]\n",
    "query = data['Question'].values[0]\n",
    "ai_answer= document_chain.invoke({\"context\":[Document(page_content=f\"{context}\")], \n",
    "                        \"query\":query})\n",
    "ai_answer2= document_chain2.invoke({\"context\":[Document(page_content=f\"{dict_object}\")], \n",
    "                        \"query\":ai_answer})\n",
    "print(f\"Question: {query}\")\n",
    "print(f\"AI Answer: {ai_answer}\")\n",
    "print(f\"Correct Answer: {ai_answer2}\")"
   ]
  },
  {
   "cell_type": "code",
   "execution_count": 230,
   "metadata": {},
   "outputs": [
    {
     "data": {
      "text/plain": [
       "{'Choice 0': 'A picture is significant primarily as a manifestation of the artist s mental state.',\n",
       " 'Choice 1': 'The highest purpose of art is to teach religious truths.  244 GMAT, GRE, LSAT',\n",
       " 'Choice 2': 'The quality of a picture has nothing to do with the nature of the objects it \\ndepicts.',\n",
       " 'Choice 3': 'An artist should strive to recreate on canvas the inner nature of objects from  \\nreal life.',\n",
       " 'Choice 4': 'It is futile to attempt to paint pictures that aim to copy the optical appearance \\nof the world.'}"
      ]
     },
     "execution_count": 230,
     "metadata": {},
     "output_type": "execute_result"
    }
   ],
   "source": [
    "dict_object"
   ]
  },
  {
   "cell_type": "code",
   "execution_count": null,
   "metadata": {},
   "outputs": [],
   "source": []
  }
 ],
 "metadata": {
  "kernelspec": {
   "display_name": ".venv",
   "language": "python",
   "name": "python3"
  },
  "language_info": {
   "codemirror_mode": {
    "name": "ipython",
    "version": 3
   },
   "file_extension": ".py",
   "mimetype": "text/x-python",
   "name": "python",
   "nbconvert_exporter": "python",
   "pygments_lexer": "ipython3",
   "version": "3.12.4"
  }
 },
 "nbformat": 4,
 "nbformat_minor": 2
}
