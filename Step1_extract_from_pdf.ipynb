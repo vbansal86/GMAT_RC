{
 "cells": [
  {
   "cell_type": "code",
   "execution_count": null,
   "metadata": {},
   "outputs": [],
   "source": [
    "import pandas as pd \n",
    "import re \n",
    "from glob import glob\n",
    "from pathlib import Path\n",
    "import tabula\n",
    "import pandas as pd\n"
   ]
  },
  {
   "cell_type": "code",
   "execution_count": 379,
   "metadata": {},
   "outputs": [],
   "source": [
    "def return_keys_in_seq(filep):\n",
    "    with open(filep,'r') as f:\n",
    "        data = f.read()  \n",
    "    pattern = re.compile(r'[^a-zA-Z]')\n",
    "    key_seq = pattern.sub('', data)\n",
    "    return key_seq"
   ]
  },
  {
   "cell_type": "code",
   "execution_count": 488,
   "metadata": {},
   "outputs": [],
   "source": [
    "# Extract text from pdf \n",
    "from PyPDF2 import PdfReader\n",
    "import io\n",
    "\n",
    "def extract_text_from_pdf(pdf_path):\n",
    "    with open(pdf_path, 'rb') as pdf_file:\n",
    "        pdf_reader = PdfReader(pdf_file)\n",
    "        text = ''\n",
    "        for page_num in range(len(pdf_reader.pages)):\n",
    "            text += pdf_reader.pages[page_num].extract_text()\n",
    "    return text\n",
    "\n",
    "pdf_text_gmat = extract_text_from_pdf('processed_pdf/ilovepdf_split-range/RC1-1-291.pdf')"
   ]
  },
  {
   "cell_type": "code",
   "execution_count": 493,
   "metadata": {},
   "outputs": [],
   "source": [
    "pattern = re.compile(r'[^\\x00-\\x7F]')\n",
    "clean_text = pattern.sub('', pdf_text_gmat)"
   ]
  },
  {
   "cell_type": "code",
   "execution_count": null,
   "metadata": {},
   "outputs": [],
   "source": [
    "with open('clean_text.txt','w') as f:\n",
    "    f.write(clean_text)\n",
    "# corrected passage 17 \n"
   ]
  },
  {
   "cell_type": "code",
   "execution_count": null,
   "metadata": {},
   "outputs": [],
   "source": [
    "# !!!!! manually step to remove space between \"passage 1 7\" and make it \"passage 17\" in clean_text.txt !!!! "
   ]
  },
  {
   "cell_type": "code",
   "execution_count": null,
   "metadata": {},
   "outputs": [],
   "source": [
    "# Read back text file \n",
    "with open('clean_text.txt','r') as f:\n",
    "    clean_text = f.read()"
   ]
  },
  {
   "cell_type": "code",
   "execution_count": 506,
   "metadata": {},
   "outputs": [],
   "source": [
    "pattern = r'(Passage\\s+\\d+\\s*)\\(\\d+/\\d+\\)\\s*[\\r\\n]+(.*?)(?=Passage\\s+\\d+\\s*\\(\\d+/\\d+\\)|$)'\n",
    "matches = re.findall(pattern, clean_text, re.DOTALL)"
   ]
  },
  {
   "cell_type": "markdown",
   "metadata": {},
   "source": [
    "#### Ground Truth"
   ]
  },
  {
   "cell_type": "code",
   "execution_count": null,
   "metadata": {},
   "outputs": [],
   "source": [
    "# Get the ground truth for each question \n",
    "# Path to your PDF file\n",
    "pdf_path = 'processed_pdf/ilovepdf_split-range/RC1-992-1025.pdf'\n",
    "# Read the tables from the PDF\n",
    "tables = tabula.read_pdf(pdf_path, pages='all', multiple_tables=True)\n",
    "# Optionally, you can save the tables to a CSV file\n",
    "for i, table in enumerate(tables):\n",
    "    table.to_csv(f\"processed_pdf/GT/table_{i+1}.csv\", index=False)\n",
    "\n",
    "files = glob('processed_pdf/GT/table_*.csv')\n",
    "def natural_sort_key(filename):\n",
    "    # Extract the numeric part of the filename using regex\n",
    "    numbers = re.findall(r'\\d+', filename)\n",
    "    return int(numbers[0]) if numbers else filename\n",
    "sorted_files  = sorted(files, key=natural_sort_key)\n",
    "for idx, f in enumerate(sorted_files):\n",
    "    oldpath = Path(f)\n",
    "    old_name = oldpath.name\n",
    "    new_name = f'table_{idx+1}.csv'\n",
    "    new_file = oldpath.name.replace(old_name,new_name)\n",
    "    new_path= oldpath.parent/\"final\"/new_file\n",
    "    pd.read_csv(oldpath).to_csv(new_path,index=False)"
   ]
  },
  {
   "cell_type": "code",
   "execution_count": null,
   "metadata": {},
   "outputs": [],
   "source": [
    "def natural_sort_key(filename):\n",
    "    # Extract the numeric part of the filename using regex\n",
    "    numbers = re.findall(r'\\d+', filename)\n",
    "    return int(numbers[0]) if numbers else filename\n"
   ]
  },
  {
   "cell_type": "markdown",
   "metadata": {},
   "source": [
    "#### Structure the passages and questions/answers "
   ]
  },
  {
   "cell_type": "code",
   "execution_count": null,
   "metadata": {},
   "outputs": [],
   "source": [
    "# Build dict of question and choices\n",
    "list_of_dicts = []\n",
    "for idx, match in enumerate(matches):\n",
    "    single_passage_dict = {\n",
    "    \"passage\" : {\n",
    "        \"num\": 0,\n",
    "        \"text\": \"\",\n",
    "        \"Question\":[]        \n",
    "\n",
    "    }\n",
    "}\n",
    "    passage_no, content = match\n",
    "    \n",
    "    split_text = re.split(r'(?=\\n\\s*\\d+\\.\\s)', content.strip())\n",
    "\n",
    "    single_passage_dict[\"passage\"][\"num\"] = passage_no\n",
    "    single_passage_dict[\"passage\"][\"text\"] = split_text[0].strip().\\\n",
    "        replace(\"\\n\",\"\").\\\n",
    "            replace(\"GMAT\",\"\").\\\n",
    "            replace(\"GRE\",\"\").\\\n",
    "            replace(\"LSAT\",\"\")\n",
    "    jdx = 0 \n",
    "    for question in split_text[1:]:  \n",
    "        qitem = {\"item\": \n",
    "                    {\n",
    "                    \"text\": \"\",\n",
    "                    \"choices_text\": [],\n",
    "                    \"correct_answer\": \"\"\n",
    "                }\n",
    "            }\n",
    "        choice_split = re.split(r'(?=\\n\\s*\\([A-E]\\))', question)\n",
    "        \n",
    "        q_text = choice_split[0].\\\n",
    "            strip().\\\n",
    "            replace(\"\\n\",\"\").\\\n",
    "            replace(\"GMAT\",\"\").\\\n",
    "            replace(\"GRE\",\"\").\\\n",
    "            replace(\"LSAT\",\"\") \n",
    "        qpattern = re.compile(r'^\\d+')\n",
    "        q_match = qpattern.search(q_text)\n",
    "        # print(f\"{idx+1}-{jdx}\")\n",
    "        if int(q_match.group()) >1000:\n",
    "            # print(\"XX\",q_match.group())\n",
    "            continue \n",
    "        qitem[\"item\"][\"text\"] = q_text\n",
    "        # get key file name \n",
    "        #key_filepath = sorted_files[idx]\n",
    "        #key_seq = return_keys_in_seq(key_filepath)\n",
    "        #print(f\"filepath:{key_filepath}\")\n",
    "        #qitem[\"item\"][\"correct_answer\"] = key_seq[jdx]\n",
    "        jdx+=1\n",
    "        for c in choice_split[1:]:\n",
    "            # remove \\n from choices_split\n",
    "            qitem[\"item\"][\"choices_text\"].append(c.strip().\\\n",
    "                                                 replace(\"\\n\",\"\").\\\n",
    "                                                replace(\"GMAT\",\"\").\\\n",
    "                                                replace(\"GRE\",\"\").\\\n",
    "                                                replace(\"LSAT\",\"\"))\n",
    "        single_passage_dict[\"passage\"][\"Question\"].append(qitem)\n",
    "    list_of_dicts.append(single_passage_dict)"
   ]
  },
  {
   "cell_type": "code",
   "execution_count": 513,
   "metadata": {},
   "outputs": [],
   "source": [
    "import json \n",
    "with open('passage.json','w') as f:\n",
    "    json.dump(list_of_dicts,f)"
   ]
  },
  {
   "cell_type": "code",
   "execution_count": 514,
   "metadata": {},
   "outputs": [
    {
     "data": {
      "text/plain": [
       "112"
      ]
     },
     "execution_count": 514,
     "metadata": {},
     "output_type": "execute_result"
    }
   ],
   "source": [
    "len(list_of_dicts)"
   ]
  },
  {
   "cell_type": "code",
   "execution_count": null,
   "metadata": {},
   "outputs": [],
   "source": [
    "# Map correct answers to the Question \n",
    "with open('passage.json','r') as f:\n",
    "    passage_dict = json.load(f)\n",
    "files = glob('processed_pdf/GT/final/table_*.csv')\n",
    "sorted_files  = sorted(files, key=natural_sort_key)\n",
    "\n",
    "for idx , p in enumerate(passage_dict):\n",
    "    # print(p)\n",
    "    key_filepath = sorted_files[idx]\n",
    "    key_seq = return_keys_in_seq(key_filepath)\n",
    "    # print(p['passage']['num'])\n",
    "    # print(key_filepath)\n",
    "    # print(key_seq)\n",
    "    #print(key_seq)\n",
    "    for jdx , q in enumerate(p['passage']['Question']):\n",
    "        # print(f\"{idx}-{jdx}\")\n",
    "        q['item']['answer']=key_seq[jdx]"
   ]
  },
  {
   "cell_type": "code",
   "execution_count": 518,
   "metadata": {},
   "outputs": [],
   "source": [
    "import json \n",
    "with open('passage_with_keys.json','w') as f:\n",
    "    json.dump(passage_dict,f)"
   ]
  }
 ],
 "metadata": {
  "kernelspec": {
   "display_name": ".venv",
   "language": "python",
   "name": "python3"
  },
  "language_info": {
   "codemirror_mode": {
    "name": "ipython",
    "version": 3
   },
   "file_extension": ".py",
   "mimetype": "text/x-python",
   "name": "python",
   "nbconvert_exporter": "python",
   "pygments_lexer": "ipython3",
   "version": "3.12.4"
  }
 },
 "nbformat": 4,
 "nbformat_minor": 2
}
