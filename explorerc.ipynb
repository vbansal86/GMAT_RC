{
 "cells": [
  {
   "cell_type": "code",
   "execution_count": 8,
   "metadata": {},
   "outputs": [],
   "source": [
    "# Extract text from pdf \n",
    "from PyPDF2 import PdfReader\n",
    "import io\n",
    "\n",
    "def extract_text_from_pdf(pdf_path):\n",
    "    with open(pdf_path, 'rb') as pdf_file:\n",
    "        pdf_reader = PdfReader(pdf_file)\n",
    "        text = ''\n",
    "        for page_num in range(len(pdf_reader.pages)):\n",
    "            text += pdf_reader.pages[page_num].extract_text()\n",
    "    return text\n",
    "\n",
    "pdf_text_pypdf = extract_text_from_pdf('RC1.pdf')"
   ]
  },
  {
   "cell_type": "code",
   "execution_count": 62,
   "metadata": {},
   "outputs": [],
   "source": [
    "with open('RC_1000.txt','r+',encoding='charmap', errors='ignore') as f:\n",
    "    pdf_text = f.read()"
   ]
  },
  {
   "cell_type": "code",
   "execution_count": 9,
   "metadata": {},
   "outputs": [],
   "source": [
    "import re\n",
    "import os\n",
    "import pandas as pd\n",
    "\n",
    "# Function to read text from file with charmap encoding and ignore errors\n",
    "def read_text_from_file(file_path):\n",
    "    with open(file_path, 'r', encoding='charmap', errors='ignore') as file:\n",
    "        text = file.read()\n",
    "    return text\n",
    "\n",
    "# Function to extract passages, questions, and choices\n",
    "def extract_data(text):\n",
    "    # Regular expression to match the passage\n",
    "    passage_pattern = r'(?s)(.*?)1\\.\\s'\n",
    "    passage_match = re.search(passage_pattern, text)\n",
    "\n",
    "    # Extract passage\n",
    "    passage = passage_match.group(1).strip() if passage_match else \"\"\n",
    "\n",
    "    # Regular expression to match questions and choices\n",
    "    questions_pattern = r'(\\d+\\.\\s.*?)(?=\\d+\\.\\s|\\Z)'\n",
    "    questions_matches = re.findall(questions_pattern, text, re.DOTALL)\n",
    "\n",
    "    questions = []\n",
    "    choices = []\n",
    "\n",
    "    for question_match in questions_matches:\n",
    "        # Extract question\n",
    "        question_pattern = r'\\d+\\.\\s(.*?)(?=\\(A\\)\\s|$)'\n",
    "        question_text = re.search(question_pattern, question_match, re.DOTALL).group(1).strip()\n",
    "        questions.append(question_text)\n",
    "\n",
    "        # Extract choices\n",
    "        choices_pattern = r'\\([A-E]\\)\\s(.*?)(?=\\([A-E]\\)\\s|$)'\n",
    "        choices_texts = re.findall(choices_pattern, question_match, re.DOTALL)\n",
    "        choices.append({f\"Choice {str(i)}\": choice_text.strip() for i, choice_text in enumerate(choices_texts)})\n",
    "\n",
    "    return passage, questions, choices\n",
    "\n",
    "# Main function to process all files in the \"passages\" folder\n",
    "def process_all_files(folder_path, output_csv_path):\n",
    "    data = {\n",
    "        \"Passage\": [],\n",
    "        \"Question\": [],\n",
    "        \"Choices\": []\n",
    "    }\n",
    "    \n",
    "    for filename in os.listdir(folder_path):\n",
    "        if filename.endswith(\".txt\"):\n",
    "            file_path = os.path.join(folder_path, filename)\n",
    "            text = read_text_from_file(file_path)\n",
    "            passage, questions, choices = extract_data(text)\n",
    "            data[\"Passage\"].extend([passage] * len(questions))\n",
    "            data[\"Question\"].extend(questions)\n",
    "            data[\"Choices\"].extend(choices)\n",
    "    \n",
    "    df = pd.DataFrame(data)\n",
    "    df.to_csv(output_csv_path, index=False)"
   ]
  },
  {
   "cell_type": "code",
   "execution_count": 11,
   "metadata": {},
   "outputs": [
    {
     "name": "stdout",
     "output_type": "stream",
     "text": [
      "Processed all files and saved to output.csv\n"
     ]
    }
   ],
   "source": [
    "\n",
    "# Usage\n",
    "folder_path = 'passages'\n",
    "output_csv_path = 'output.csv'\n",
    "process_all_files(folder_path, output_csv_path)\n",
    "\n",
    "# Print confirmation\n",
    "print(\"Processed all files and saved to\", output_csv_path)"
   ]
  }
 ],
 "metadata": {
  "kernelspec": {
   "display_name": ".venv",
   "language": "python",
   "name": "python3"
  },
  "language_info": {
   "codemirror_mode": {
    "name": "ipython",
    "version": 3
   },
   "file_extension": ".py",
   "mimetype": "text/x-python",
   "name": "python",
   "nbconvert_exporter": "python",
   "pygments_lexer": "ipython3",
   "version": "3.12.4"
  }
 },
 "nbformat": 4,
 "nbformat_minor": 2
}
